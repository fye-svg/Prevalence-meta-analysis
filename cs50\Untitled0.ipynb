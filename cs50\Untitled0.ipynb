{
  "nbformat": 4,
  "nbformat_minor": 0,
  "metadata": {
    "colab": {
      "provenance": [],
      "toc_visible": true,
      "authorship_tag": "ABX9TyPHzjQTco1lO70qdLtMHEuX",
      "include_colab_link": true
    },
    "kernelspec": {
      "name": "python3",
      "display_name": "Python 3"
    },
    "language_info": {
      "name": "python"
    }
  },
  "cells": [
    {
      "cell_type": "markdown",
      "metadata": {
        "id": "view-in-github",
        "colab_type": "text"
      },
      "source": [
        "<a href=\"https://colab.research.google.com/github/fye-svg/Prevalence-meta-analysis/blob/main/cs50%5CUntitled0.ipynb\" target=\"_parent\"><img src=\"https://colab.research.google.com/assets/colab-badge.svg\" alt=\"Open In Colab\"/></a>"
      ]
    },
    {
      "cell_type": "markdown",
      "source": [],
      "metadata": {
        "id": "SkH1I4WDnpdm"
      }
    },
    {
      "cell_type": "code",
      "execution_count": 6,
      "metadata": {
        "colab": {
          "base_uri": "https://localhost:8080/"
        },
        "id": "kjRRwe3caMJk",
        "outputId": "229b47a5-1eba-4769-cf10-775228dcdb97"
      },
      "outputs": [
        {
          "output_type": "stream",
          "name": "stdout",
          "text": [
            "Overwriting hello.py\n"
          ]
        }
      ],
      "source": [
        "%%writefile hello.py\n",
        "print(\"hello, world\")\n",
        "print(\"hello1\")\n",
        "\n",
        "%%writefile hello.py1\n",
        "print(\"hello, world\")\n",
        "print(\"hello1\")\n"
      ]
    },
    {
      "cell_type": "markdown",
      "source": [
        "%%writefile hello.py == code hello.py"
      ],
      "metadata": {
        "id": "8QLL8759nz4C"
      }
    },
    {
      "cell_type": "code",
      "source": [
        "!python hello.py"
      ],
      "metadata": {
        "colab": {
          "base_uri": "https://localhost:8080/"
        },
        "id": "RudRljgkje5-",
        "outputId": "5c0ab604-e207-4789-d678-48bdff759063"
      },
      "execution_count": 3,
      "outputs": [
        {
          "output_type": "stream",
          "name": "stdout",
          "text": [
            "hello, world\n",
            "hello1\n"
          ]
        }
      ]
    },
    {
      "cell_type": "code",
      "source": [
        "echo \"# CS50\" >> README.md\n",
        "git init\n",
        "git add README.md\n",
        "git commit -m \"first commit\"\n",
        "git branch -M main\n",
        "git remote add origin https://github.com/fye-svg/CS50.git\n",
        "git push -u origin main"
      ],
      "metadata": {
        "colab": {
          "base_uri": "https://localhost:8080/",
          "height": 108
        },
        "id": "QRdjNBdurA1q",
        "outputId": "f4d498c1-c2d2-4819-e202-b6add3002a38"
      },
      "execution_count": 7,
      "outputs": [
        {
          "output_type": "error",
          "ename": "SyntaxError",
          "evalue": "invalid syntax (ipython-input-702204934.py, line 1)",
          "traceback": [
            "\u001b[0;36m  File \u001b[0;32m\"/tmp/ipython-input-702204934.py\"\u001b[0;36m, line \u001b[0;32m1\u001b[0m\n\u001b[0;31m    echo \"# CS50\" >> README.md\u001b[0m\n\u001b[0m         ^\u001b[0m\n\u001b[0;31mSyntaxError\u001b[0m\u001b[0;31m:\u001b[0m invalid syntax\n"
          ]
        }
      ]
    },
    {
      "cell_type": "code",
      "source": [],
      "metadata": {
        "id": "cOZK2GdlrAnw"
      },
      "execution_count": null,
      "outputs": []
    },
    {
      "cell_type": "markdown",
      "source": [
        "# New Section"
      ],
      "metadata": {
        "id": "7e5KhEAqoNx7"
      }
    },
    {
      "cell_type": "code",
      "source": [],
      "metadata": {
        "id": "82o0Ewi5oXwo"
      },
      "execution_count": null,
      "outputs": []
    }
  ]
}